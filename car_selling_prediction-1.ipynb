{
 "cells": [
  {
   "cell_type": "code",
   "execution_count": 1,
   "metadata": {},
   "outputs": [],
   "source": [
    "import pandas as pd\n",
    "import numpy as np\n",
    "from bs4 import BeautifulSoup\n",
    "import matplotlib.pyplot as plt\n",
    "import seaborn as sns "
   ]
  },
  {
   "cell_type": "code",
   "execution_count": 2,
   "metadata": {},
   "outputs": [],
   "source": [
    "#For the linnear regression models\n",
    "import warnings\n",
    "warnings.filterwarnings('ignore')\n",
    "import pandas as pd\n",
    "import numpy as np\n",
    "pd.set_option('display.max_columns', None)\n",
    "import math\n",
    "from sklearn import linear_model\n",
    "from sklearn.metrics import mean_squared_error, r2_score\n",
    "from sklearn.model_selection import train_test_split"
   ]
  },
  {
   "cell_type": "code",
   "execution_count": 3,
   "metadata": {},
   "outputs": [],
   "source": [
    "df= pd.read_csv('/Users/inesmarina/Desktop/machine_learning_proyect3/CAR DETAILS FROM CAR DEKHO.csv')"
   ]
  },
  {
   "cell_type": "code",
   "execution_count": 4,
   "metadata": {},
   "outputs": [
    {
     "name": "stdout",
     "output_type": "stream",
     "text": [
      "<class 'pandas.core.frame.DataFrame'>\n",
      "RangeIndex: 4340 entries, 0 to 4339\n",
      "Data columns (total 8 columns):\n",
      " #   Column         Non-Null Count  Dtype \n",
      "---  ------         --------------  ----- \n",
      " 0   name           4340 non-null   object\n",
      " 1   year           4340 non-null   int64 \n",
      " 2   selling_price  4340 non-null   int64 \n",
      " 3   km_driven      4340 non-null   int64 \n",
      " 4   fuel           4340 non-null   object\n",
      " 5   seller_type    4340 non-null   object\n",
      " 6   transmission   4340 non-null   object\n",
      " 7   owner          4340 non-null   object\n",
      "dtypes: int64(3), object(5)\n",
      "memory usage: 271.4+ KB\n"
     ]
    }
   ],
   "source": [
    "df.info()"
   ]
  },
  {
   "cell_type": "code",
   "execution_count": 5,
   "metadata": {},
   "outputs": [
    {
     "data": {
      "text/html": [
       "<div>\n",
       "<style scoped>\n",
       "    .dataframe tbody tr th:only-of-type {\n",
       "        vertical-align: middle;\n",
       "    }\n",
       "\n",
       "    .dataframe tbody tr th {\n",
       "        vertical-align: top;\n",
       "    }\n",
       "\n",
       "    .dataframe thead th {\n",
       "        text-align: right;\n",
       "    }\n",
       "</style>\n",
       "<table border=\"1\" class=\"dataframe\">\n",
       "  <thead>\n",
       "    <tr style=\"text-align: right;\">\n",
       "      <th></th>\n",
       "      <th>name</th>\n",
       "      <th>year</th>\n",
       "      <th>selling_price</th>\n",
       "      <th>km_driven</th>\n",
       "      <th>fuel</th>\n",
       "      <th>seller_type</th>\n",
       "      <th>transmission</th>\n",
       "      <th>owner</th>\n",
       "    </tr>\n",
       "  </thead>\n",
       "  <tbody>\n",
       "  </tbody>\n",
       "</table>\n",
       "</div>"
      ],
      "text/plain": [
       "Empty DataFrame\n",
       "Columns: [name, year, selling_price, km_driven, fuel, seller_type, transmission, owner]\n",
       "Index: []"
      ]
     },
     "execution_count": 5,
     "metadata": {},
     "output_type": "execute_result"
    }
   ],
   "source": [
    "df.head(0)"
   ]
  },
  {
   "cell_type": "code",
   "execution_count": 6,
   "metadata": {},
   "outputs": [
    {
     "data": {
      "text/html": [
       "<div>\n",
       "<style scoped>\n",
       "    .dataframe tbody tr th:only-of-type {\n",
       "        vertical-align: middle;\n",
       "    }\n",
       "\n",
       "    .dataframe tbody tr th {\n",
       "        vertical-align: top;\n",
       "    }\n",
       "\n",
       "    .dataframe thead th {\n",
       "        text-align: right;\n",
       "    }\n",
       "</style>\n",
       "<table border=\"1\" class=\"dataframe\">\n",
       "  <thead>\n",
       "    <tr style=\"text-align: right;\">\n",
       "      <th></th>\n",
       "      <th>name</th>\n",
       "      <th>year</th>\n",
       "      <th>selling_price</th>\n",
       "      <th>km_driven</th>\n",
       "      <th>fuel</th>\n",
       "      <th>seller_type</th>\n",
       "      <th>transmission</th>\n",
       "      <th>owner</th>\n",
       "    </tr>\n",
       "  </thead>\n",
       "  <tbody>\n",
       "    <tr>\n",
       "      <th>0</th>\n",
       "      <td>Maruti 800 AC</td>\n",
       "      <td>2007</td>\n",
       "      <td>60000</td>\n",
       "      <td>70000</td>\n",
       "      <td>Petrol</td>\n",
       "      <td>Individual</td>\n",
       "      <td>Manual</td>\n",
       "      <td>First Owner</td>\n",
       "    </tr>\n",
       "    <tr>\n",
       "      <th>1</th>\n",
       "      <td>Maruti Wagon R LXI Minor</td>\n",
       "      <td>2007</td>\n",
       "      <td>135000</td>\n",
       "      <td>50000</td>\n",
       "      <td>Petrol</td>\n",
       "      <td>Individual</td>\n",
       "      <td>Manual</td>\n",
       "      <td>First Owner</td>\n",
       "    </tr>\n",
       "    <tr>\n",
       "      <th>2</th>\n",
       "      <td>Hyundai Verna 1.6 SX</td>\n",
       "      <td>2012</td>\n",
       "      <td>600000</td>\n",
       "      <td>100000</td>\n",
       "      <td>Diesel</td>\n",
       "      <td>Individual</td>\n",
       "      <td>Manual</td>\n",
       "      <td>First Owner</td>\n",
       "    </tr>\n",
       "    <tr>\n",
       "      <th>3</th>\n",
       "      <td>Datsun RediGO T Option</td>\n",
       "      <td>2017</td>\n",
       "      <td>250000</td>\n",
       "      <td>46000</td>\n",
       "      <td>Petrol</td>\n",
       "      <td>Individual</td>\n",
       "      <td>Manual</td>\n",
       "      <td>First Owner</td>\n",
       "    </tr>\n",
       "    <tr>\n",
       "      <th>4</th>\n",
       "      <td>Honda Amaze VX i-DTEC</td>\n",
       "      <td>2014</td>\n",
       "      <td>450000</td>\n",
       "      <td>141000</td>\n",
       "      <td>Diesel</td>\n",
       "      <td>Individual</td>\n",
       "      <td>Manual</td>\n",
       "      <td>Second Owner</td>\n",
       "    </tr>\n",
       "  </tbody>\n",
       "</table>\n",
       "</div>"
      ],
      "text/plain": [
       "                       name  year  selling_price  km_driven    fuel  \\\n",
       "0             Maruti 800 AC  2007          60000      70000  Petrol   \n",
       "1  Maruti Wagon R LXI Minor  2007         135000      50000  Petrol   \n",
       "2      Hyundai Verna 1.6 SX  2012         600000     100000  Diesel   \n",
       "3    Datsun RediGO T Option  2017         250000      46000  Petrol   \n",
       "4     Honda Amaze VX i-DTEC  2014         450000     141000  Diesel   \n",
       "\n",
       "  seller_type transmission         owner  \n",
       "0  Individual       Manual   First Owner  \n",
       "1  Individual       Manual   First Owner  \n",
       "2  Individual       Manual   First Owner  \n",
       "3  Individual       Manual   First Owner  \n",
       "4  Individual       Manual  Second Owner  "
      ]
     },
     "execution_count": 6,
     "metadata": {},
     "output_type": "execute_result"
    }
   ],
   "source": [
    "df.head(5)"
   ]
  },
  {
   "cell_type": "code",
   "execution_count": 9,
   "metadata": {},
   "outputs": [
    {
     "name": "stdout",
     "output_type": "stream",
     "text": [
      "['Petrol' 'Diesel' 'CNG' 'LPG' 'Electric']\n"
     ]
    }
   ],
   "source": [
    "fuel_type=df['fuel'].unique()\n",
    "print(fuel_type)"
   ]
  },
  {
   "cell_type": "code",
   "execution_count": 11,
   "metadata": {},
   "outputs": [
    {
     "name": "stdout",
     "output_type": "stream",
     "text": [
      "['Manual' 'Automatic']\n"
     ]
    }
   ],
   "source": [
    "transmission_type= df['transmission'].unique()\n",
    "print(transmission_type)"
   ]
  },
  {
   "cell_type": "code",
   "execution_count": 12,
   "metadata": {},
   "outputs": [
    {
     "name": "stdout",
     "output_type": "stream",
     "text": [
      "['First Owner' 'Second Owner' 'Fourth & Above Owner' 'Third Owner'\n",
      " 'Test Drive Car']\n"
     ]
    }
   ],
   "source": [
    "ownership=df['owner'].unique()\n",
    "print(ownership)"
   ]
  },
  {
   "cell_type": "code",
   "execution_count": 14,
   "metadata": {},
   "outputs": [
    {
     "name": "stdout",
     "output_type": "stream",
     "text": [
      "[ 70000  50000 100000  46000 141000 125000  25000  60000  78000  35000\n",
      "  24000   5000  33000  28000  59000   4500 175900  14500  15000  33800\n",
      " 130400  80000  10000 119000  75800  40000  74000  64000 120000  79000\n",
      "  18500  10200  29000  90000  73300  92000  66764 350000 230000  31000\n",
      "  39000 166000 110000  54000  63000  76000  11958  20000   9000   6500\n",
      "  58000  62200  34000  53000  49000  63500   9800  13000  21000  29173\n",
      "  48000  30000  87000  16000  79350  81000   3600  14272  49213  57000\n",
      "   3240 114000  53772 140000 175000  36000 155500  23000  22155  78380\n",
      " 150000  80362  55000   1136  43000   2650 115962  65000  56000 213000\n",
      " 139000 160000 163000  32000  52000  11240  66000  26500  72000  44000\n",
      " 130000 195000 155000   4000  41000  10832  14681  51000 200000  19600\n",
      "  46730  21170 167223 141440 212814  88635 149674   8000  68000  38000\n",
      "  75000  98000  81925  82080  97000  52047  62009  33100 220000  45000\n",
      " 180000  22000  80577 127500  40903  22288  61690  64484  75976  85962\n",
      "  57035  72104 164000 124439  77000   1250  17152  24005 149000  19000\n",
      " 109000  61000  27633  12586  38083  55328  81632 155201  93283 217871\n",
      "  90165 101504  86017  85036  91086 160254 125531  82000  84000 560000\n",
      "  14365  61083  66363  11700   7104  45974  55340  61585  39415  29654\n",
      "  64672  54634  66521  23974   1000  86000  52600  19890  11918  10510\n",
      "  47162  49824  58500  56580  46507  11451 172000  66508  29900   3000\n",
      "  85000   7900  17500 206500  88600 186000  11000 138000  27974  18000\n",
      "   1400 124000  42000  28205  32670  30093  56228  59319  39503  35299\n",
      "  51687  76259  44049  45087  41125  42215  54206  52547  59110  54565\n",
      "  47564  45143  61624 132000  10980  20629  69782  63654  59385  70378\n",
      "  55425  78413  40890  34823  55545  56541  43700  27483  56207   1440\n",
      "  91195  63657  97248  89000  12000  12997  26430  24600  28481  41988\n",
      "  30375   7658  34400  28942  53600  53652 106000 205000  79500 197000\n",
      "   9161  19077 128000  21302  10500 107000  55300  74300  48781  87620\n",
      "  40219  11473   8352   9745   9748  20694  31080  37605  55850  58850\n",
      "  23839  45454  46957 190000   1500  47000 116000  26350  71042 167870\n",
      " 133564  23038  43608  11212  49217  28838 135000  19571  29600  13500\n",
      "  48600 127643 102354  62237  21394  32686   1001  53261  14000  39895\n",
      "  73000  17000  18591  26766 300000  27620 223000 161327   6000  71000\n",
      " 144000  37000  26000  27000  13250 101000   8500  90246  60400  70950\n",
      "   1100  31491 107143  46412 107500  43826  55838 112880  30300  80659\n",
      "  81324 127884  66755 123084 806599  95851 234000 170000  96000  19014\n",
      "  23262  35925  40771  30500  55800  66569  81358  82695  68293 190621\n",
      "  64700  88470 126000  74183      1 192000  83411  13270  88000   7000\n",
      "  13770 102000 143000 115000 136906 133000  28689  80322  61658 185000\n",
      "  30600 235000  67000  74500 118700 223660   2000  73756  16400  41395\n",
      "  71014 181000  89550 149500  83000  44800 156000 146000  99000  37516\n",
      "  25880 136000   2020  94000  88500  52536   1950 118400   6480  32077\n",
      "  19107  18469  28217  72787  31063  79641  58692  54784  64156   9500\n",
      "  81366 244000 312000 145000   7300  72539    101  52328  91505  20500\n",
      " 154000  41723  68745  27289  24662  28245  27005  39227  31367  35008\n",
      " 100005  45264  39093  45241   2769  43128  22255  59213   1010   1111\n",
      "  48965   5166  76290  45766  78771  79357  76736  92645 101849 155836\n",
      "  63230   1758   1452  35122  92621  92198 152000  78322  54309  34600\n",
      "  38217  77073  16584  81257   3917  69069  59059  39039  33033  55168\n",
      "  41041  67067  66066  82082  70070  63063   9528 135200  50300 151624\n",
      "  74820 129000  66778  63400 157000  38500 103921  14825  43377 102307\n",
      " 245244  68500   5007  49600  43100  10171  41123  20118  52517  99117\n",
      "   3700  43500 137250   5400  11200  93000  62000   5800 267000 250000\n",
      "  28635  32114  95149  68458 105546 104000 132343  26134  52895  42324\n",
      "  60236  10300 142000  28643   7600  47253   4432  68523  80251  34500\n",
      "  42743  93900  55766 113600 138925 121764 105429  23122  44500  13599\n",
      "   5200  12700  95000  45839  74510  87293 156040  93415 101159  68519\n",
      "  55130  65239  58182  91245 102989 108000 178000  75118   4637  42655\n",
      "  69000 117000 105000 182000  24585  13900  17563 173000 151000 117780\n",
      "  81595   9700 221000  28740  48500 148620 270000  41090 296823  89255\n",
      " 168000   5550   1700  45217  44440  91365  90010  31800  59100  31200\n",
      "  22700  50900   2417  65500 140300  10211 260000  32933  54551  57112\n",
      "  41025  53122  64111  78892  74113  84775  20778  64441  43192  44416\n",
      "  79991  62601  89600  60800  69111  20969  20194  34982  44588  57904\n",
      "  59258  60826   1300  31707 115992 109052  90658  25552  40700  11174\n",
      "  72500  76600  97700  37500  23800  44077 210000   9422 240000  17100\n",
      " 224642 222435 159000 101100   1200 134444 238000 165000  63700  74800\n",
      "  60516  76731  63840  76400  31489 295000 158000 400000  19495  62668\n",
      "  85710  63356 129627   4400  14987  25061  42494  44875  89741 347089\n",
      " 222252  55250  12500 162000  22038   2500  89126 134000  42500 131365\n",
      "  48980  98900  13800  99700  49654  45457  39221  48220  11114  60208\n",
      "  98600  85441  64541  16267  71500  12999  14700  92686  49359 108731\n",
      "  29976  30646  23600  71318  78098  18054  38406  54350  32260  58231\n",
      "  59858  73350  88473  96987  77350  61187  68350  81150 280000 105700\n",
      "  37091  38900   9400  14100  37555  56600  67580  48238  38365  23670\n",
      "  49834  57353  68308  63240  64916  37161 118000  50852  53500  51500\n",
      "  79800   6590  49957  43235  50699 140730 256000 218000  66782 112198]\n"
     ]
    }
   ],
   "source": [
    "kms=df['km_driven'].unique()\n",
    "print(kms)"
   ]
  },
  {
   "cell_type": "code",
   "execution_count": 15,
   "metadata": {},
   "outputs": [
    {
     "data": {
      "text/plain": [
       "km_driven\n",
       "70000     236\n",
       "80000     228\n",
       "50000     222\n",
       "120000    220\n",
       "60000     215\n",
       "         ... \n",
       "19107       1\n",
       "32077       1\n",
       "6480        1\n",
       "118400      1\n",
       "112198      1\n",
       "Name: count, Length: 770, dtype: int64"
      ]
     },
     "execution_count": 15,
     "metadata": {},
     "output_type": "execute_result"
    }
   ],
   "source": [
    "df['km_driven'].value_counts()"
   ]
  },
  {
   "cell_type": "code",
   "execution_count": 16,
   "metadata": {},
   "outputs": [
    {
     "data": {
      "image/png": "[encoded data removed]",
      "text/plain": [
       "<Figure size 640x480 with 1 Axes>"
      ]
     },
     "metadata": {},
     "output_type": "display_data"
    }
   ],
   "source": [
    "df['km_driven'].hist()\n",
    "plt.show()"
   ]
  },
  {
   "cell_type": "code",
   "execution_count": 17,
   "metadata": {},
   "outputs": [
    {
     "data": {
      "image/png": "[encoded data removed]",
      "text/plain": [
       "<Figure size 640x480 with 1 Axes>"
      ]
     },
     "metadata": {},
     "output_type": "display_data"
    }
   ],
   "source": [
    "df['year'].hist()\n",
    "plt.show()"
   ]
  },
  {
   "cell_type": "code",
   "execution_count": 18,
   "metadata": {},
   "outputs": [
    {
     "data": {
      "image/png": "[encoded data removed]",
      "text/plain": [
       "<Figure size 640x480 with 1 Axes>"
      ]
     },
     "metadata": {},
     "output_type": "display_data"
    }
   ],
   "source": [
    "df['selling_price'].hist()\n",
    "plt.show()"
   ]
  },
  {
   "cell_type": "code",
   "execution_count": 20,
   "metadata": {},
   "outputs": [
    {
     "data": {
      "image/png": "[encoded data removed]",
      "text/plain": [
       "<Figure size 640x480 with 1 Axes>"
      ]
     },
     "metadata": {},
     "output_type": "display_data"
    }
   ],
   "source": [
    "df['fuel'].hist()\n",
    "plt.show()"
   ]
  },
  {
   "cell_type": "code",
   "execution_count": 21,
   "metadata": {},
   "outputs": [
    {
     "data": {
      "image/png": "[encoded data removed]",
      "text/plain": [
       "<Figure size 640x480 with 1 Axes>"
      ]
     },
     "metadata": {},
     "output_type": "display_data"
    }
   ],
   "source": [
    "df['seller_type'].hist()\n",
    "plt.show()"
   ]
  },
  {
   "cell_type": "code",
   "execution_count": null,
   "metadata": {},
   "outputs": [],
   "source": [
    "#cathegorical transformation\n",
    "#year from (latest year of the dataset) count how old the car is (ie. 2020)\n",
    "#"
   ]
  }
 ],
 "metadata": {
  "kernelspec": {
   "display_name": "original",
   "language": "python",
   "name": "python3"
  },
  "language_info": {
   "codemirror_mode": {
    "name": "ipython",
    "version": 3
   },
   "file_extension": ".py",
   "mimetype": "text/x-python",
   "name": "python",
   "nbconvert_exporter": "python",
   "pygments_lexer": "ipython3",
   "version": "3.12.5"
  }
 },
 "nbformat": 4,
 "nbformat_minor": 2
}
